{
 "cells": [
  {
   "cell_type": "code",
   "execution_count": 7,
   "metadata": {},
   "outputs": [
    {
     "name": "stdout",
     "output_type": "stream",
     "text": [
      "Please enter stone, paper or scissors: paper\n",
      "Machine's pick:  stone\n",
      "2\n"
     ]
    }
   ],
   "source": [
    "import random\n",
    "game_list = ['stone', 'paper', 'scissors']\n",
    "games_number = 5\n",
    "games_to_win = 3\n",
    "\n",
    "def choice(): # Human player picks\n",
    "    while True:\n",
    "        try:\n",
    "            x = input('Please enter stone, paper or scissors: ')\n",
    "        except ValueError:\n",
    "            print(\"Sorry, I didn't understand that.\")\n",
    "            continue\n",
    "        if (x == 'paper') or ( x == 'stone') or (x == 'scissors'):\n",
    "            return x\n",
    "            break\n",
    "        else:\n",
    "            print('Please enter again')\n",
    "\n",
    "def game(list): # Machine random choice\n",
    "    return random.choice(list)\n",
    "\n",
    "def combat(): # Human vs Machine\n",
    "    x = game(game_list) # Macnine's pick\n",
    "    y = choice() # Human's pick\n",
    "    if (x == 'stone') & (y == 'paper'):\n",
    "        print(\"Machine's pick: \", x)\n",
    "        return 2\n",
    "    elif (x == 'stone') & (y == 'scissors'):\n",
    "        print(\"Machine's pick: \", x)\n",
    "        return 1\n",
    "    elif (x == 'stone') & (y == 'stone'):\n",
    "        print(\"Machine's pick: \", x)\n",
    "        return 0\n",
    "    elif (x == 'paper') & (y == 'paper'):\n",
    "        print(\"Machine's pick: \", x)\n",
    "        return 0\n",
    "    elif (x == 'paper') & (y == 'scissors'):\n",
    "        print(\"Machine's pick: \", x)\n",
    "        return 2\n",
    "    elif (x == 'paper') & (y == 'stone'):\n",
    "        print(\"Machine's pick: \", x)\n",
    "        return 1\n",
    "    elif (x == 'scissors') & (y == 'paper'):\n",
    "        print(\"Machine's pick: \", x)\n",
    "        return 1\n",
    "    elif (x == 'scissors') & (y == 'scissors'):\n",
    "        print(\"Machine's pick: \", x)\n",
    "        return 0\n",
    "    elif (x == 'scissors') & (y == 'stone'):\n",
    "        print(\"Machine's pick: \", x)\n",
    "        return 2\n",
    "print(combat())\n",
    "        "
   ]
  },
  {
   "cell_type": "code",
   "execution_count": 25,
   "metadata": {},
   "outputs": [
    {
     "name": "stdout",
     "output_type": "stream",
     "text": [
      "Please enter stone, paper or scissors: paper\n",
      "Machine's pick:  paper\n"
     ]
    },
    {
     "data": {
      "text/plain": [
       "0"
      ]
     },
     "execution_count": 25,
     "metadata": {},
     "output_type": "execute_result"
    }
   ],
   "source": [
    "import random\n",
    "game_list = ['stone', 'paper', 'scissors']\n",
    "games_number = 5\n",
    "games_to_win = 3\n",
    "\n",
    "def choice(): # Human player picks\n",
    "    while True:\n",
    "        try:\n",
    "            x = input('Please enter stone, paper or scissors: ')\n",
    "        except ValueError:\n",
    "            print(\"Sorry, I didn't understand that.\")\n",
    "            continue\n",
    "        if (x == 'paper') or ( x == 'stone') or (x == 'scissors'):\n",
    "            return x\n",
    "            break\n",
    "        else:\n",
    "            print('Please enter again')\n",
    "\n",
    "def game(list): # Machine random choice\n",
    "    return random.choice(list)\n",
    "\n",
    "def combat(): # Human vs Machine\n",
    "    x = game(game_list) # Macnine's pick\n",
    "    y = choice() # Human's pick\n",
    "    if (x == 'stone') & (y == 'paper'):\n",
    "        print(\"Machine's pick: \", x)\n",
    "        return 2\n",
    "    elif (x == 'stone') & (y == 'scissors'):\n",
    "        print(\"Machine's pick: \", x)\n",
    "        return 1\n",
    "    elif (x == 'stone') & (y == 'stone'):\n",
    "        print(\"Machine's pick: \", x)\n",
    "        return 0\n",
    "    elif (x == 'paper') & (y == 'paper'):\n",
    "        print(\"Machine's pick: \", x)\n",
    "        return 0\n",
    "    elif (x == 'paper') & (y == 'scissors'):\n",
    "        print(\"Machine's pick: \", x)\n",
    "        return 2\n",
    "    elif (x == 'paper') & (y == 'stone'):\n",
    "        print(\"Machine's pick: \", x)\n",
    "        return 1\n",
    "    elif (x == 'scissors') & (y == 'paper'):\n",
    "        print(\"Machine's pick: \", x)\n",
    "        return 1\n",
    "    elif (x == 'scissors') & (y == 'scissors'):\n",
    "        print(\"Machine's pick: \", x)\n",
    "        return 0\n",
    "    elif (x == 'scissors') & (y == 'stone'):\n",
    "        print(\"Machine's pick: \", x)\n",
    "        return 2\n",
    "combat()\n",
    "#def score():\n",
    "#    x = 0 # Machine win\n",
    "#    y = 0 # Human win\n",
    "#    for i in range(games_number):\n",
    "#        if combat() == 1:\n",
    "#            x += 1\n",
    "#            print('Current score Machine vs Human ', x,':',y)\n",
    "#        elif combat() == 2:\n",
    "#            y += 1\n",
    "#            print('Current score Machine vs Human ', x,':',y)\n",
    "#score()"
   ]
  },
  {
   "cell_type": "code",
   "execution_count": 26,
   "metadata": {},
   "outputs": [
    {
     "name": "stdout",
     "output_type": "stream",
     "text": [
      "Please enter stone, paper or scissors: paper\n",
      "Machine's pick:  scissors\n",
      "Current score Machine vs Human  1 : 0\n",
      "Please enter stone, paper or scissors: paper\n",
      "Machine's pick:  paper\n",
      "Please enter stone, paper or scissors: paper\n",
      "Machine's pick:  paper\n",
      "Please enter stone, paper or scissors: paper\n",
      "Machine's pick:  paper\n",
      "Please enter stone, paper or scissors: paper\n",
      "Machine's pick:  paper\n",
      "Please enter stone, paper or scissors: paper\n",
      "Machine's pick:  scissors\n",
      "Current score Machine vs Human  2 : 0\n",
      "Please enter stone, paper or scissors: paper\n",
      "Machine's pick:  stone\n",
      "Please enter stone, paper or scissors: paper\n",
      "Machine's pick:  stone\n",
      "Current score Machine vs Human  2 : 1\n"
     ]
    }
   ],
   "source": [
    "def score():\n",
    "    x = 0 # Machine win\n",
    "    y = 0 # Human win\n",
    "    for i in range(games_number):\n",
    "        if combat() == 1:\n",
    "            x += 1\n",
    "            print('Current score Machine vs Human ', x,':',y)\n",
    "        elif combat() == 2:\n",
    "            y += 1\n",
    "            print('Current score Machine vs Human ', x,':',y)\n",
    "score()"
   ]
  },
  {
   "cell_type": "code",
   "execution_count": null,
   "metadata": {},
   "outputs": [],
   "source": []
  }
 ],
 "metadata": {
  "kernelspec": {
   "display_name": "Python 3",
   "language": "python",
   "name": "python3"
  },
  "language_info": {
   "codemirror_mode": {
    "name": "ipython",
    "version": 3
   },
   "file_extension": ".py",
   "mimetype": "text/x-python",
   "name": "python",
   "nbconvert_exporter": "python",
   "pygments_lexer": "ipython3",
   "version": "3.7.3"
  }
 },
 "nbformat": 4,
 "nbformat_minor": 2
}
